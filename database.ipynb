{
 "cells": [
  {
   "cell_type": "code",
   "execution_count": null,
   "id": "8961c7c7",
   "metadata": {},
   "outputs": [],
   "source": [
    "import pymysql\n",
    "mydb = pymysql.connect(host=\"\", user=\"\", password=\"\")"
   ]
  },
  {
   "cell_type": "code",
   "execution_count": 2,
   "id": "c46cff1a",
   "metadata": {},
   "outputs": [],
   "source": [
    "mycursor = mydb.cursor()"
   ]
  },
  {
   "cell_type": "code",
   "execution_count": 3,
   "id": "fdaa7a58",
   "metadata": {},
   "outputs": [
    {
     "data": {
      "text/plain": [
       "0"
      ]
     },
     "execution_count": 3,
     "metadata": {},
     "output_type": "execute_result"
    }
   ],
   "source": [
    "mycursor.execute(\"USE mydatabase\")"
   ]
  },
  {
   "cell_type": "code",
   "execution_count": 6,
   "metadata": {},
   "outputs": [
    {
     "data": {
      "text/plain": [
       "0"
      ]
     },
     "execution_count": 6,
     "metadata": {},
     "output_type": "execute_result"
    }
   ],
   "source": [
    "mycursor.execute(\"\"\"CREATE TABLE user_profiles (\n",
    "    first_name VARCHAR(50) NOT NULL,\n",
    "    last_name VARCHAR(50) NOT NULL,\n",
    "    age INT,\n",
    "    gender VARCHAR(20),\n",
    "    marital_status VARCHAR(50),\n",
    "    education VARCHAR(100),\n",
    "    job VARCHAR(100),\n",
    "    location VARCHAR(100),\n",
    "    \n",
    "    -- Top interests as separate columns\n",
    "    first_interest VARCHAR(50),\n",
    "    first_interest_percentage INT,\n",
    "    second_interest VARCHAR(50),\n",
    "    second_interest_percentage INT,\n",
    "    third_interest VARCHAR(50),\n",
    "    third_interest_percentage INT,\n",
    "    \n",
    "    personality_summary TEXT,\n",
    "    \n",
    "    -- Activities (stored as JSON array)\n",
    "    key_activities TEXT,\n",
    "    \n",
    "    total_posts INT,\n",
    "    \n",
    "    -- Habits (stored as JSON array)\n",
    "    top_habits TEXT,\n",
    "    \n",
    "    top_hobby VARCHAR(100),\n",
    "    travel_indicators VARCHAR(50),\n",
    "    \n",
    "    -- Life indicators (stored as JSON array)\n",
    "    life_indicators TEXT,\n",
    "    \n",
    "    -- Spending indicators (stored as JSON array)\n",
    "    spending_indicators TEXT\n",
    ")\"\"\")"
   ]
  },
  {
   "cell_type": "code",
   "execution_count": null,
   "id": "cb903746",
   "metadata": {},
   "outputs": [],
   "source": [
    "from typing import Dict, Any\n",
    "import pymysql\n",
    "import json\n",
    "\n",
    "class Database:\n",
    "    def __init__(self, host: str, user: str, password: str, db: str):\n",
    "        \"\"\"Initialize the database connection\"\"\"\n",
    "        self.connection = pymysql.connect(\n",
    "            host=host,\n",
    "            user=user,\n",
    "            password=password,\n",
    "            db=db,\n",
    "            cursorclass=pymysql.cursors.DictCursor\n",
    "        )\n",
    "        self.cursor = self.connection.cursor()\n",
    "\n",
    "    def insert_user_profile(self, profile_data: Dict[str, Any]) -> bool:\n",
    "        \"\"\"Insert a user profile into the database\"\"\"\n",
    "        try:\n",
    "            # Convert lists to JSON strings\n",
    "            key_activities = json.dumps(profile_data.get(\"key_activities\", []))\n",
    "            top_habits = json.dumps(profile_data.get(\"top_habits\", []))\n",
    "            life_indicators = json.dumps(profile_data.get(\"life_indicators\", []))\n",
    "            spending_indicators = json.dumps(profile_data.get(\"spending_indicators\", []))\n",
    "            \n",
    "            # Get interests from the top_interests list\n",
    "            interests = profile_data.get(\"top_interests\", [{} for _ in range(3)])\n",
    "            \n",
    "            sql = \"\"\"\n",
    "            INSERT INTO user_profiles (\n",
    "                first_name, last_name, age, gender, marital_status, education, job, location,\n",
    "                first_interest, first_interest_percentage,\n",
    "                second_interest, second_interest_percentage,\n",
    "                third_interest, third_interest_percentage,\n",
    "                personality_summary, key_activities, total_posts, top_habits,\n",
    "                top_hobby, travel_indicators, life_indicators, spending_indicators\n",
    "            ) VALUES (\n",
    "                %s, %s, %s, %s, %s, %s, %s, %s,\n",
    "                %s, %s, %s, %s, %s, %s,\n",
    "                %s, %s, %s, %s, %s, %s, %s, %s\n",
    "            )\n",
    "            \"\"\"\n",
    "\n",
    "            values = (\n",
    "                profile_data.get(\"first_name\"),\n",
    "                profile_data.get(\"last_name\"),\n",
    "                profile_data.get(\"age\"),\n",
    "                profile_data.get(\"gender\"),\n",
    "                profile_data.get(\"marital_status\"),\n",
    "                profile_data.get(\"education\"),\n",
    "                profile_data.get(\"job\"),\n",
    "                profile_data.get(\"location\"),\n",
    "                interests[0].get(\"interest\"),\n",
    "                interests[0].get(\"percentage\"),\n",
    "                interests[1].get(\"interest\"),\n",
    "                interests[1].get(\"percentage\"),\n",
    "                interests[2].get(\"interest\"),\n",
    "                interests[2].get(\"percentage\"),\n",
    "                profile_data.get(\"personality_summary\"),\n",
    "                key_activities,\n",
    "                profile_data.get(\"total_posts\"),\n",
    "                top_habits,\n",
    "                profile_data.get(\"top_hobby\"),\n",
    "                profile_data.get(\"travel_indicators\"),\n",
    "                life_indicators,\n",
    "                spending_indicators\n",
    "            )\n",
    "\n",
    "            self.cursor.execute(sql, values)\n",
    "            self.connection.commit()\n",
    "            self.logger.info(f\"Successfully inserted profile for {profile_data.get('first_name')} {profile_data.get('last_name')}\")\n",
    "            return True\n",
    "\n",
    "        except pymysql.MySQLError as e:\n",
    "            self.logger.error(f\"Error inserting user profile: {e}\")\n",
    "            return False\n",
    "        except Exception as e:\n",
    "            self.logger.error(f\"Unexpected error: {e}\")\n",
    "            return False\n"
   ]
  },
  {
   "cell_type": "code",
   "execution_count": null,
   "id": "dbda0820",
   "metadata": {},
   "outputs": [],
   "source": []
  }
 ],
 "metadata": {
  "kernelspec": {
   "display_name": "Python 3",
   "language": "python",
   "name": "python3"
  },
  "language_info": {
   "codemirror_mode": {
    "name": "ipython",
    "version": 3
   },
   "file_extension": ".py",
   "mimetype": "text/x-python",
   "name": "python",
   "nbconvert_exporter": "python",
   "pygments_lexer": "ipython3",
   "version": "3.11.0"
  }
 },
 "nbformat": 4,
 "nbformat_minor": 5
}
