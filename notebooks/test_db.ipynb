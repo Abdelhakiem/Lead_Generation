{
 "cells": [
  {
   "cell_type": "markdown",
   "id": "185b07f6",
   "metadata": {},
   "source": [
    "### Create connection, CRUD operations with sqlite"
   ]
  },
  {
   "cell_type": "code",
   "execution_count": null,
   "id": "79fa3229",
   "metadata": {},
   "outputs": [],
   "source": [
    "import sqlite3\n",
    "# 1. Connect (creates file if missing)\n",
    "conn = sqlite3.connect(\"mydata.db\")\n",
    "\n",
    "# 2. (Optional) Access rows as dicts\n",
    "conn.row_factory = sqlite3.Row\n",
    "# 3. Create a cursor\n",
    "cur = conn.cursor()"
   ]
  },
  {
   "cell_type": "code",
   "execution_count": 5,
   "id": "65f5ee74",
   "metadata": {},
   "outputs": [
    {
     "data": {
      "text/plain": [
       "<sqlite3.Cursor at 0x7065e4349ec0>"
      ]
     },
     "execution_count": 5,
     "metadata": {},
     "output_type": "execute_result"
    }
   ],
   "source": [
    "# 4. Create table (if it doesn't exist)\n",
    "cur.execute(\"\"\"\n",
    "    CREATE TABLE IF NOT EXISTS test_users (\n",
    "        id   INTEGER PRIMARY KEY,\n",
    "        name TEXT NOT NULL,\n",
    "        age  INTEGER\n",
    "    )\n",
    "\"\"\")\n"
   ]
  },
  {
   "cell_type": "code",
   "execution_count": 6,
   "id": "e42cb932",
   "metadata": {},
   "outputs": [],
   "source": [
    "users = [(\"Alice\", 30), (\"Bob\", 25), (\"Carol\", 27)]\n",
    "cur.executemany(\"INSERT INTO test_users (name, age) VALUES (?, ?)\", users)\n",
    "\n",
    "# 6. Commit your changes\n",
    "conn.commit()"
   ]
  },
  {
   "cell_type": "code",
   "execution_count": 7,
   "id": "e53a2490",
   "metadata": {},
   "outputs": [
    {
     "name": "stdout",
     "output_type": "stream",
     "text": [
      "1: Alice is 30\n",
      "3: Carol is 27\n"
     ]
    }
   ],
   "source": [
    "# 7. Query the table\n",
    "cur.execute(\"SELECT id, name, age FROM test_users WHERE age > ?\", (26,))\n",
    "for row in cur.fetchall():\n",
    "    print(f\"{row['id']}: {row['name']} is {row['age']}\")\n"
   ]
  },
  {
   "cell_type": "code",
   "execution_count": 8,
   "id": "c674bdb1",
   "metadata": {},
   "outputs": [],
   "source": [
    "# 8. Clean up\n",
    "cur.close()\n",
    "conn.close()\n"
   ]
  },
  {
   "cell_type": "markdown",
   "id": "a1192e28",
   "metadata": {},
   "source": [
    "### Loading query results into pandas dataframes"
   ]
  },
  {
   "cell_type": "code",
   "execution_count": 9,
   "id": "1f665ba2",
   "metadata": {},
   "outputs": [
    {
     "name": "stdout",
     "output_type": "stream",
     "text": [
      "   id   name  age\n",
      "0   1  Alice   30\n",
      "1   2    Bob   25\n",
      "2   3  Carol   27\n"
     ]
    }
   ],
   "source": [
    "import pandas as pd\n",
    "import sqlite3\n",
    "\n",
    "conn = sqlite3.connect(\"mydata.db\")\n",
    "df = pd.read_sql_query(\"SELECT * FROM test_users\", conn)\n",
    "print(df.head())\n",
    "conn.close()\n"
   ]
  },
  {
   "cell_type": "code",
   "execution_count": null,
   "id": "dbd3c016",
   "metadata": {},
   "outputs": [],
   "source": []
  }
 ],
 "metadata": {
  "kernelspec": {
   "display_name": "base",
   "language": "python",
   "name": "python3"
  },
  "language_info": {
   "codemirror_mode": {
    "name": "ipython",
    "version": 3
   },
   "file_extension": ".py",
   "mimetype": "text/x-python",
   "name": "python",
   "nbconvert_exporter": "python",
   "pygments_lexer": "ipython3",
   "version": "3.12.2"
  }
 },
 "nbformat": 4,
 "nbformat_minor": 5
}
